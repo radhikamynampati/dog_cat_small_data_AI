{
  "nbformat": 4,
  "nbformat_minor": 0,
  "metadata": {
    "colab": {
      "name": "Dogs_vs_Cat_Image_Augmentation_With_Validation_v_0.1.ipynb",
      "provenance": [],
      "collapsed_sections": []
    },
    "kernelspec": {
      "name": "python3",
      "display_name": "Python 3"
    },
    "accelerator": "GPU"
  },
  "cells": [
    {
      "cell_type": "code",
      "metadata": {
        "id": "Ah9a6pZwp6H6",
        "colab_type": "code",
        "colab": {
          "base_uri": "https://localhost:8080/",
          "height": 54
        },
        "outputId": "599c70ba-70e4-4130-a05a-899a3ab88e58"
      },
      "source": [
        "#Please upload kaggle.json before running this\n",
        "# Make a Directory and the move the uploaded kaggle json to hidden kaggle folder\n",
        "! mkdir -p /root/.kaggle\n",
        "! cp kaggle.json /root/.kaggle \n",
        "import kaggle"
      ],
      "execution_count": 1,
      "outputs": [
        {
          "output_type": "stream",
          "text": [
            "Warning: Your Kaggle API key is readable by other users on this system! To fix this, you can run 'chmod 600 /root/.kaggle/kaggle.json'\n"
          ],
          "name": "stdout"
        }
      ]
    },
    {
      "cell_type": "code",
      "metadata": {
        "id": "UqUvV6eQq6WG",
        "colab_type": "code",
        "colab": {}
      },
      "source": [
        "#check the tensorflow version and ensure its 2.x+\n",
        "%tensorflow_version 2.x"
      ],
      "execution_count": 0,
      "outputs": []
    },
    {
      "cell_type": "code",
      "metadata": {
        "id": "aCgPxWm7rBSl",
        "colab_type": "code",
        "colab": {
          "base_uri": "https://localhost:8080/",
          "height": 156
        },
        "outputId": "86ed61bb-4e23-4f0e-a7eb-51b1eba0e274"
      },
      "source": [
        "!kaggle competitions download -c dogs-vs-cats\n",
        "\n",
        "!unzip -q train.zip"
      ],
      "execution_count": 3,
      "outputs": [
        {
          "output_type": "stream",
          "text": [
            "Warning: Your Kaggle API key is readable by other users on this system! To fix this, you can run 'chmod 600 /root/.kaggle/kaggle.json'\n",
            "Warning: Looks like you're using an outdated API Version, please consider updating (server 1.5.6 / client 1.5.4)\n",
            "Downloading test1.zip to /content\n",
            " 94% 256M/271M [00:03<00:00, 58.7MB/s]\n",
            "100% 271M/271M [00:04<00:00, 70.6MB/s]\n",
            "sampleSubmission.csv: Skipping, found more recently modified local copy (use --force to force download)\n",
            "train.zip: Skipping, found more recently modified local copy (use --force to force download)\n"
          ],
          "name": "stdout"
        }
      ]
    },
    {
      "cell_type": "code",
      "metadata": {
        "id": "CsS8VSJ3uT8T",
        "colab_type": "code",
        "colab": {}
      },
      "source": [
        ""
      ],
      "execution_count": 0,
      "outputs": []
    },
    {
      "cell_type": "code",
      "metadata": {
        "id": "1Y1ulphmrDsr",
        "colab_type": "code",
        "colab": {}
      },
      "source": [
        "import os\n",
        "import shutil\n",
        "import pandas as pd\n",
        "import matplotlib.pyplot as plt\n",
        "import cv2\n",
        "from PIL import Image\n",
        "from tqdm import tqdm_notebook"
      ],
      "execution_count": 0,
      "outputs": []
    },
    {
      "cell_type": "code",
      "metadata": {
        "id": "X_-nezMErMik",
        "colab_type": "code",
        "colab": {}
      },
      "source": [
        "#Image.open(\"./train/cat.7751.jpg\")"
      ],
      "execution_count": 0,
      "outputs": []
    },
    {
      "cell_type": "code",
      "metadata": {
        "id": "SGgeZ8RqrVzn",
        "colab_type": "code",
        "colab": {}
      },
      "source": [
        "#Check shape of above image\n",
        "#cv2.imread(\"./train/cat.7751.jpg\").shape\n"
      ],
      "execution_count": 0,
      "outputs": []
    },
    {
      "cell_type": "code",
      "metadata": {
        "id": "-AtgIQ1Fr94b",
        "colab_type": "code",
        "colab": {
          "base_uri": "https://localhost:8080/",
          "height": 204
        },
        "outputId": "49f91865-07b0-4f30-ec7f-77037f24f27d"
      },
      "source": [
        "all_image_name = os.listdir(\"./train\")\n",
        "df = pd.DataFrame(all_image_name, columns=[\"image_name\"])\n",
        "df[\"final_image_name\"] = df.image_name\n",
        "df.head()\n"
      ],
      "execution_count": 45,
      "outputs": [
        {
          "output_type": "execute_result",
          "data": {
            "text/html": [
              "<div>\n",
              "<style scoped>\n",
              "    .dataframe tbody tr th:only-of-type {\n",
              "        vertical-align: middle;\n",
              "    }\n",
              "\n",
              "    .dataframe tbody tr th {\n",
              "        vertical-align: top;\n",
              "    }\n",
              "\n",
              "    .dataframe thead th {\n",
              "        text-align: right;\n",
              "    }\n",
              "</style>\n",
              "<table border=\"1\" class=\"dataframe\">\n",
              "  <thead>\n",
              "    <tr style=\"text-align: right;\">\n",
              "      <th></th>\n",
              "      <th>image_name</th>\n",
              "      <th>final_image_name</th>\n",
              "    </tr>\n",
              "  </thead>\n",
              "  <tbody>\n",
              "    <tr>\n",
              "      <th>0</th>\n",
              "      <td>cat.3754.jpg</td>\n",
              "      <td>cat.3754.jpg</td>\n",
              "    </tr>\n",
              "    <tr>\n",
              "      <th>1</th>\n",
              "      <td>dog.7461.jpg</td>\n",
              "      <td>dog.7461.jpg</td>\n",
              "    </tr>\n",
              "    <tr>\n",
              "      <th>2</th>\n",
              "      <td>dog.10169.jpg</td>\n",
              "      <td>dog.10169.jpg</td>\n",
              "    </tr>\n",
              "    <tr>\n",
              "      <th>3</th>\n",
              "      <td>dog.3897.jpg</td>\n",
              "      <td>dog.3897.jpg</td>\n",
              "    </tr>\n",
              "    <tr>\n",
              "      <th>4</th>\n",
              "      <td>cat.686.jpg</td>\n",
              "      <td>cat.686.jpg</td>\n",
              "    </tr>\n",
              "  </tbody>\n",
              "</table>\n",
              "</div>"
            ],
            "text/plain": [
              "      image_name final_image_name\n",
              "0   cat.3754.jpg     cat.3754.jpg\n",
              "1   dog.7461.jpg     dog.7461.jpg\n",
              "2  dog.10169.jpg    dog.10169.jpg\n",
              "3   dog.3897.jpg     dog.3897.jpg\n",
              "4    cat.686.jpg      cat.686.jpg"
            ]
          },
          "metadata": {
            "tags": []
          },
          "execution_count": 45
        }
      ]
    },
    {
      "cell_type": "code",
      "metadata": {
        "id": "roPVJYlds0Gz",
        "colab_type": "code",
        "colab": {
          "base_uri": "https://localhost:8080/",
          "height": 204
        },
        "outputId": "113194aa-4a63-4c08-847b-85429be07904"
      },
      "source": [
        "#Above since image names has dot (.) in it so lets split it\n",
        "df2 = df.image_name.str.split(\".\", expand=True)\n",
        "df2[\"final_image_name\"] = df.final_image_name\n",
        "del df2[1]\n",
        "del df2[2]\n",
        "df2.head()"
      ],
      "execution_count": 48,
      "outputs": [
        {
          "output_type": "execute_result",
          "data": {
            "text/html": [
              "<div>\n",
              "<style scoped>\n",
              "    .dataframe tbody tr th:only-of-type {\n",
              "        vertical-align: middle;\n",
              "    }\n",
              "\n",
              "    .dataframe tbody tr th {\n",
              "        vertical-align: top;\n",
              "    }\n",
              "\n",
              "    .dataframe thead th {\n",
              "        text-align: right;\n",
              "    }\n",
              "</style>\n",
              "<table border=\"1\" class=\"dataframe\">\n",
              "  <thead>\n",
              "    <tr style=\"text-align: right;\">\n",
              "      <th></th>\n",
              "      <th>0</th>\n",
              "      <th>final_image_name</th>\n",
              "    </tr>\n",
              "  </thead>\n",
              "  <tbody>\n",
              "    <tr>\n",
              "      <th>0</th>\n",
              "      <td>cat</td>\n",
              "      <td>cat.3754.jpg</td>\n",
              "    </tr>\n",
              "    <tr>\n",
              "      <th>1</th>\n",
              "      <td>dog</td>\n",
              "      <td>dog.7461.jpg</td>\n",
              "    </tr>\n",
              "    <tr>\n",
              "      <th>2</th>\n",
              "      <td>dog</td>\n",
              "      <td>dog.10169.jpg</td>\n",
              "    </tr>\n",
              "    <tr>\n",
              "      <th>3</th>\n",
              "      <td>dog</td>\n",
              "      <td>dog.3897.jpg</td>\n",
              "    </tr>\n",
              "    <tr>\n",
              "      <th>4</th>\n",
              "      <td>cat</td>\n",
              "      <td>cat.686.jpg</td>\n",
              "    </tr>\n",
              "  </tbody>\n",
              "</table>\n",
              "</div>"
            ],
            "text/plain": [
              "     0 final_image_name\n",
              "0  cat     cat.3754.jpg\n",
              "1  dog     dog.7461.jpg\n",
              "2  dog    dog.10169.jpg\n",
              "3  dog     dog.3897.jpg\n",
              "4  cat      cat.686.jpg"
            ]
          },
          "metadata": {
            "tags": []
          },
          "execution_count": 48
        }
      ]
    },
    {
      "cell_type": "code",
      "metadata": {
        "id": "rKSDyUbNsMWh",
        "colab_type": "code",
        "colab": {
          "base_uri": "https://localhost:8080/",
          "height": 34
        },
        "outputId": "034d45a4-32ae-458e-89d0-4d4cf033eb6e"
      },
      "source": [
        "classes = df2[0].unique().tolist()\n",
        "classes"
      ],
      "execution_count": 8,
      "outputs": [
        {
          "output_type": "execute_result",
          "data": {
            "text/plain": [
              "['cat', 'dog']"
            ]
          },
          "metadata": {
            "tags": []
          },
          "execution_count": 8
        }
      ]
    },
    {
      "cell_type": "code",
      "metadata": {
        "id": "BU_16tIyztWh",
        "colab_type": "code",
        "colab": {
          "base_uri": "https://localhost:8080/",
          "height": 34
        },
        "outputId": "776e715d-a532-4afd-ab1c-434e7a6eced0"
      },
      "source": [
        "from sklearn.model_selection import train_test_split\n",
        "x_train, x_test,y_train, y_test = train_test_split(df2.final_image_name, df2[0], test_size=0.2)\n",
        "x_train.shape, y_train.shape, x_test.shape, y_test.shape"
      ],
      "execution_count": 54,
      "outputs": [
        {
          "output_type": "execute_result",
          "data": {
            "text/plain": [
              "((20000,), (20000,), (5000,), (5000,))"
            ]
          },
          "metadata": {
            "tags": []
          },
          "execution_count": 54
        }
      ]
    },
    {
      "cell_type": "code",
      "metadata": {
        "id": "WQep_dbs1SVY",
        "colab_type": "code",
        "colab": {}
      },
      "source": [
        "x_train, x_val, y_train, y_val= train_test_split(x_train, y_train, test_size=0.2)"
      ],
      "execution_count": 0,
      "outputs": []
    },
    {
      "cell_type": "code",
      "metadata": {
        "id": "pkPJkaKn1rL0",
        "colab_type": "code",
        "colab": {
          "base_uri": "https://localhost:8080/",
          "height": 34
        },
        "outputId": "b564c9ae-9387-4b09-e42f-8353377863aa"
      },
      "source": [
        "x_train.shape, x_val.shape, x_test.shape, y_train.shape, y_val.shape, y_test.shape"
      ],
      "execution_count": 56,
      "outputs": [
        {
          "output_type": "execute_result",
          "data": {
            "text/plain": [
              "((16000,), (4000,), (5000,), (16000,), (4000,), (5000,))"
            ]
          },
          "metadata": {
            "tags": []
          },
          "execution_count": 56
        }
      ]
    },
    {
      "cell_type": "code",
      "metadata": {
        "id": "9UWUApaMtjuq",
        "colab_type": "code",
        "colab": {
          "base_uri": "https://localhost:8080/",
          "height": 34
        },
        "outputId": "84601d48-1b96-4de0-f222-b41fba73888b"
      },
      "source": [
        "#Sample data\n",
        "# df2.sample(frac=0.2).shape"
      ],
      "execution_count": 58,
      "outputs": [
        {
          "output_type": "execute_result",
          "data": {
            "text/plain": [
              "(5000, 2)"
            ]
          },
          "metadata": {
            "tags": []
          },
          "execution_count": 58
        }
      ]
    },
    {
      "cell_type": "code",
      "metadata": {
        "id": "Ld8WqUf30Onf",
        "colab_type": "code",
        "colab": {}
      },
      "source": [
        ""
      ],
      "execution_count": 0,
      "outputs": []
    },
    {
      "cell_type": "code",
      "metadata": {
        "id": "onpAY9ew1cfF",
        "colab_type": "code",
        "colab": {}
      },
      "source": [
        "#validation_df.size"
      ],
      "execution_count": 0,
      "outputs": []
    },
    {
      "cell_type": "code",
      "metadata": {
        "id": "BjXAXiZt1ofr",
        "colab_type": "code",
        "colab": {
          "base_uri": "https://localhost:8080/",
          "height": 34
        },
        "outputId": "eadd3c19-7445-4fc5-8bd7-aedd647f0f11"
      },
      "source": [
        "df.size"
      ],
      "execution_count": 12,
      "outputs": [
        {
          "output_type": "execute_result",
          "data": {
            "text/plain": [
              "25000"
            ]
          },
          "metadata": {
            "tags": []
          },
          "execution_count": 12
        }
      ]
    },
    {
      "cell_type": "code",
      "metadata": {
        "id": "Q-WSIoT4uGzl",
        "colab_type": "code",
        "colab": {
          "base_uri": "https://localhost:8080/",
          "height": 136
        },
        "outputId": "2431b191-39eb-4d6a-91e7-2dc4dac0c90e"
      },
      "source": [
        "!ls -ltr /content\n",
        "!mkdir data"
      ],
      "execution_count": 13,
      "outputs": [
        {
          "output_type": "stream",
          "text": [
            "total 834740\n",
            "drwxr-xr-x 2 root root    798720 Sep 20  2013 train\n",
            "drwxr-xr-x 1 root root      4096 Mar 18 16:23 sample_data\n",
            "-rw-r--r-- 1 root root        69 Apr  5 12:15 kaggle.json\n",
            "-rw-r--r-- 1 root root     88903 Apr  5 12:29 sampleSubmission.csv\n",
            "-rw-r--r-- 1 root root 569546721 Apr  5 12:29 train.zip\n",
            "-rw-r--r-- 1 root root 284321224 Apr  5 13:41 test1.zip\n"
          ],
          "name": "stdout"
        }
      ]
    },
    {
      "cell_type": "code",
      "metadata": {
        "id": "DIoTWsF65Xbc",
        "colab_type": "code",
        "colab": {}
      },
      "source": [
        "!mkdir validation_data"
      ],
      "execution_count": 0,
      "outputs": []
    },
    {
      "cell_type": "code",
      "metadata": {
        "id": "KDJNty5Os7FO",
        "colab_type": "code",
        "colab": {}
      },
      "source": [
        "#Create the image data generator structure\n",
        "for _class in classes:\n",
        "    os.mkdir(\"data/\" + _class)\n",
        "    os.mkdir(\"validation_data/\" + _class)"
      ],
      "execution_count": 0,
      "outputs": []
    },
    {
      "cell_type": "code",
      "metadata": {
        "id": "U_aunQHvuE3c",
        "colab_type": "code",
        "colab": {}
      },
      "source": [
        "SRC_FOLDER = \"./train/\"\n",
        "CAT_FOLDER = \"./data/cat/\"\n",
        "DOG_FODLER = \"./data/dog/\"\n",
        "V_FODLER = \"./validation_data/\"\n",
        "V_CAT_FOLDER = \"./validation_data/cat/\"\n",
        "V_DOG_FODLER = \"./validation_data/dog/\"\n"
      ],
      "execution_count": 0,
      "outputs": []
    },
    {
      "cell_type": "code",
      "metadata": {
        "id": "d32Dk9-yuju8",
        "colab_type": "code",
        "colab": {}
      },
      "source": [
        "for image in os.listdir(SRC_FOLDER):\n",
        "    if image.lower().startswith(\"cat\"):\n",
        "        shutil.copy(SRC_FOLDER + image, CAT_FOLDER + image)\n",
        "    else:\n",
        "        shutil.copy(SRC_FOLDER + image, DOG_FODLER + image)"
      ],
      "execution_count": 0,
      "outputs": []
    },
    {
      "cell_type": "code",
      "metadata": {
        "id": "_WM60ma63rb-",
        "colab_type": "code",
        "colab": {
          "base_uri": "https://localhost:8080/",
          "height": 34
        },
        "outputId": "29051ab6-d1d8-434f-904f-1d1de688672e"
      },
      "source": [
        "# for image in x_val:\n",
        "#   if image.lower().startswith(\"cat\"):\n",
        "#     shutil.copy(SRC_FOLDER + image, V_CAT_FOLDER + image)\n",
        "#   else:\n",
        "#     shutil.copy(SRC_FOLDER + image, V_DOG_FODLER + image) "
      ],
      "execution_count": 60,
      "outputs": [
        {
          "output_type": "stream",
          "text": [
            "cat.10366.jpg\n"
          ],
          "name": "stdout"
        }
      ]
    },
    {
      "cell_type": "code",
      "metadata": {
        "id": "kLoPuhRB8-iS",
        "colab_type": "code",
        "colab": {}
      },
      "source": [
        "counter = 0\n",
        "for image in os.listdir(SRC_FOLDER):\n",
        "    counter += 1\n",
        "    if (counter % 5) == 0:\n",
        "        if image.lower().startswith(\"cat\"):\n",
        "            shutil.copy(SRC_FOLDER + image, V_CAT_FOLDER + image)\n",
        "        else:\n",
        "            shutil.copy(SRC_FOLDER + image, V_DOG_FODLER + image) \n",
        "    else:\n",
        "        print(\" ignored this row\")"
      ],
      "execution_count": 0,
      "outputs": []
    },
    {
      "cell_type": "code",
      "metadata": {
        "id": "W-KfK5SwuwW6",
        "colab_type": "code",
        "colab": {
          "base_uri": "https://localhost:8080/",
          "height": 34
        },
        "outputId": "f044c9b0-a1eb-4321-d65a-8e7b91e9a82b"
      },
      "source": [
        "!ls -ltr /content/data/dog | wc"
      ],
      "execution_count": 19,
      "outputs": [
        {
          "output_type": "stream",
          "text": [
            "  12501  112502  688903\n"
          ],
          "name": "stdout"
        }
      ]
    },
    {
      "cell_type": "code",
      "metadata": {
        "id": "ACO_aNOQ_tCD",
        "colab_type": "code",
        "colab": {
          "base_uri": "https://localhost:8080/",
          "height": 34
        },
        "outputId": "495f9cf0-8382-4763-dfd5-d871b9ce0e45"
      },
      "source": [
        "#Lets see sample dog size\n",
        "!ls -ltr /content/validation_data/cat | wc\n"
      ],
      "execution_count": 20,
      "outputs": [
        {
          "output_type": "stream",
          "text": [
            "   2492   22421  137309\n"
          ],
          "name": "stdout"
        }
      ]
    },
    {
      "cell_type": "code",
      "metadata": {
        "id": "0zoYkN0ovPzV",
        "colab_type": "code",
        "colab": {}
      },
      "source": [
        "# Libraries to import for Image Processing now\n",
        "import tensorflow as tf\n",
        "from tensorflow.keras.preprocessing.image import ImageDataGenerator, array_to_img, img_to_array, load_img\n"
      ],
      "execution_count": 0,
      "outputs": []
    },
    {
      "cell_type": "code",
      "metadata": {
        "id": "253mYo0QvfV8",
        "colab_type": "code",
        "colab": {}
      },
      "source": [
        "# Create a dataGenerator object\n",
        "dataGenerator = ImageDataGenerator(rotation_range=40, horizontal_flip=True, zoom_range=0.2, rescale=1/255)"
      ],
      "execution_count": 0,
      "outputs": []
    },
    {
      "cell_type": "code",
      "metadata": {
        "id": "m4VrO8tMvwaU",
        "colab_type": "code",
        "colab": {}
      },
      "source": [
        "#Import libraries for Model\n",
        "from tensorflow.keras.models import Sequential\n",
        "from tensorflow.keras.layers import Dense,Activation, Flatten, Dropout, MaxPooling2D, Conv2D\n",
        "from tensorflow.keras.activations import relu, softmax\n",
        "from tensorflow.keras.losses import categorical_crossentropy\n",
        "from tensorflow.keras.optimizers import SGD"
      ],
      "execution_count": 0,
      "outputs": []
    },
    {
      "cell_type": "code",
      "metadata": {
        "id": "iFxDr1yqwa6V",
        "colab_type": "code",
        "colab": {}
      },
      "source": [
        "model = Sequential()\n",
        "#chunk-1\n",
        "model.add(Conv2D(32, kernel_size=(3,3), input_shape=(150,150,3)))\n",
        "model.add(Activation(\"relu\"))\n",
        "model.add(MaxPooling2D(pool_size=(2,2)))\n",
        "#chunk-2  \n",
        "model.add(Conv2D(32, kernel_size=(3,3)))\n",
        "model.add(Activation(\"relu\"))\n",
        "model.add(MaxPooling2D(pool_size=(2,2)))\n",
        "#chunk-3  \n",
        "model.add(Conv2D(64, kernel_size=(3,3)))\n",
        "model.add(Activation(\"relu\"))\n",
        "model.add(MaxPooling2D(pool_size=(2,2)))"
      ],
      "execution_count": 0,
      "outputs": []
    },
    {
      "cell_type": "code",
      "metadata": {
        "id": "zN9X4jIJwnEe",
        "colab_type": "code",
        "colab": {}
      },
      "source": [
        "#flattenning\n",
        "model.add(Flatten())\n",
        "model.add(Dense(64,activation=\"relu\"))\n",
        "model.add(Dropout(0.5))\n",
        "model.add(Dense(2,activation=\"softmax\"))"
      ],
      "execution_count": 0,
      "outputs": []
    },
    {
      "cell_type": "code",
      "metadata": {
        "id": "11wDZp7qwpf4",
        "colab_type": "code",
        "colab": {
          "base_uri": "https://localhost:8080/",
          "height": 595
        },
        "outputId": "39d1ddcf-6c4b-4a1c-bc5c-7fe28471a21b"
      },
      "source": [
        "model.summary()"
      ],
      "execution_count": 26,
      "outputs": [
        {
          "output_type": "stream",
          "text": [
            "Model: \"sequential\"\n",
            "_________________________________________________________________\n",
            "Layer (type)                 Output Shape              Param #   \n",
            "=================================================================\n",
            "conv2d (Conv2D)              (None, 148, 148, 32)      896       \n",
            "_________________________________________________________________\n",
            "activation (Activation)      (None, 148, 148, 32)      0         \n",
            "_________________________________________________________________\n",
            "max_pooling2d (MaxPooling2D) (None, 74, 74, 32)        0         \n",
            "_________________________________________________________________\n",
            "conv2d_1 (Conv2D)            (None, 72, 72, 32)        9248      \n",
            "_________________________________________________________________\n",
            "activation_1 (Activation)    (None, 72, 72, 32)        0         \n",
            "_________________________________________________________________\n",
            "max_pooling2d_1 (MaxPooling2 (None, 36, 36, 32)        0         \n",
            "_________________________________________________________________\n",
            "conv2d_2 (Conv2D)            (None, 34, 34, 64)        18496     \n",
            "_________________________________________________________________\n",
            "activation_2 (Activation)    (None, 34, 34, 64)        0         \n",
            "_________________________________________________________________\n",
            "max_pooling2d_2 (MaxPooling2 (None, 17, 17, 64)        0         \n",
            "_________________________________________________________________\n",
            "flatten (Flatten)            (None, 18496)             0         \n",
            "_________________________________________________________________\n",
            "dense (Dense)                (None, 64)                1183808   \n",
            "_________________________________________________________________\n",
            "dropout (Dropout)            (None, 64)                0         \n",
            "_________________________________________________________________\n",
            "dense_1 (Dense)              (None, 2)                 130       \n",
            "=================================================================\n",
            "Total params: 1,212,578\n",
            "Trainable params: 1,212,578\n",
            "Non-trainable params: 0\n",
            "_________________________________________________________________\n"
          ],
          "name": "stdout"
        }
      ]
    },
    {
      "cell_type": "code",
      "metadata": {
        "id": "C5iCp6eswxRA",
        "colab_type": "code",
        "colab": {}
      },
      "source": [
        "# This model is using rmsprop as optimizer instead of SGD\n",
        "#model.compile(loss=categorical_crossentropy, optimizer=\"rmsprop\", metrics=[\"acc\"])\n",
        "# will try with sgd = tf.keras.optimizers.SGD(lr=0.1, decay=0.000225, momentum=0.5)\n",
        "#model.compile(optimizer=sgd, loss='categorical_crossentropy', metrics=['accuracy'])\n",
        "#model.compile(optimizer=tf.keras.optimizers.Adam(0.01), loss='categorical_crossentropy',metrics=['accuracy'])\n",
        "# Cycle -3\n",
        "model.compile(SGD(lr=0.01), categorical_crossentropy, [\"acc\"])\n"
      ],
      "execution_count": 0,
      "outputs": []
    },
    {
      "cell_type": "code",
      "metadata": {
        "id": "m6ApEJuTw_yH",
        "colab_type": "code",
        "colab": {}
      },
      "source": [
        "#we have to reinitialize dataGenerator to avoid any issue (TBD)\n",
        "dataGenerator = ImageDataGenerator(rotation_range=40, horizontal_flip=True, zoom_range=0.2, rescale=1/255)\n"
      ],
      "execution_count": 0,
      "outputs": []
    },
    {
      "cell_type": "code",
      "metadata": {
        "id": "nJ4gzpCsxH3X",
        "colab_type": "code",
        "colab": {
          "base_uri": "https://localhost:8080/",
          "height": 51
        },
        "outputId": "8a8288aa-eb44-4a13-988f-d3c9c4e895eb"
      },
      "source": [
        "#Create Train Generator and choose the path where the data lies\n",
        "train_generator = dataGenerator.flow_from_directory(\"data\", target_size=(150,150), batch_size=128)\n",
        "validation_generator = dataGenerator.flow_from_directory(\"validation_data\", target_size=(150,150),batch_size=128)\n",
        " "
      ],
      "execution_count": 29,
      "outputs": [
        {
          "output_type": "stream",
          "text": [
            "Found 25000 images belonging to 2 classes.\n",
            "Found 5000 images belonging to 2 classes.\n"
          ],
          "name": "stdout"
        }
      ]
    },
    {
      "cell_type": "code",
      "metadata": {
        "id": "12XCmofSxRe6",
        "colab_type": "code",
        "colab": {
          "base_uri": "https://localhost:8080/",
          "height": 445
        },
        "outputId": "4ee18c0d-373b-483e-aec9-380c85c0306f"
      },
      "source": [
        "model.fit_generator(train_generator, epochs=10,steps_per_epoch=25000//128,\n",
        "                    validation_data=validation_generator,validation_steps=(5000/128))\n",
        "# Since below warning came up so, using Model.fit\n",
        "\n",
        "#WARNING:tensorflow:From <ipython-input-29-d5df9b1af4c0>:1: Model.fit_generator (from tensorflow.python.keras.engine.training) is deprecated and will be removed in a future version.\n",
        "#Instructions for updating:\n",
        "#Please use Model.fit, which supports generators.\n",
        "#model.fit(train_generator, epochs=10)\n",
        "\n",
        "\n",
        "#model.fit(generator=train_generator,validation_data=validattionGen,epochs=10,validation_split=)"
      ],
      "execution_count": 30,
      "outputs": [
        {
          "output_type": "stream",
          "text": [
            "WARNING:tensorflow:From <ipython-input-30-6db6bec187f2>:2: Model.fit_generator (from tensorflow.python.keras.engine.training) is deprecated and will be removed in a future version.\n",
            "Instructions for updating:\n",
            "Please use Model.fit, which supports generators.\n",
            "Epoch 1/10\n",
            "195/195 [==============================] - 208s 1s/step - loss: 0.6891 - acc: 0.5335 - val_loss: 0.6830 - val_acc: 0.5846\n",
            "Epoch 2/10\n",
            "195/195 [==============================] - 204s 1s/step - loss: 0.6814 - acc: 0.5672 - val_loss: 0.6732 - val_acc: 0.6148\n",
            "Epoch 3/10\n",
            "195/195 [==============================] - 201s 1s/step - loss: 0.6743 - acc: 0.5820 - val_loss: 0.6666 - val_acc: 0.5904\n",
            "Epoch 4/10\n",
            "195/195 [==============================] - 201s 1s/step - loss: 0.6659 - acc: 0.5955 - val_loss: 0.6557 - val_acc: 0.6232\n",
            "Epoch 5/10\n",
            "195/195 [==============================] - 201s 1s/step - loss: 0.6616 - acc: 0.6018 - val_loss: 0.6471 - val_acc: 0.6340\n",
            "Epoch 6/10\n",
            "195/195 [==============================] - 200s 1s/step - loss: 0.6563 - acc: 0.6076 - val_loss: 0.6447 - val_acc: 0.6300\n",
            "Epoch 7/10\n",
            "195/195 [==============================] - 199s 1s/step - loss: 0.6508 - acc: 0.6141 - val_loss: 0.6486 - val_acc: 0.6076\n",
            "Epoch 8/10\n",
            "195/195 [==============================] - 200s 1s/step - loss: 0.6464 - acc: 0.6202 - val_loss: 0.6515 - val_acc: 0.5990\n",
            "Epoch 9/10\n",
            "195/195 [==============================] - 199s 1s/step - loss: 0.6414 - acc: 0.6310 - val_loss: 0.6258 - val_acc: 0.6446\n",
            "Epoch 10/10\n",
            "195/195 [==============================] - 199s 1s/step - loss: 0.6354 - acc: 0.6415 - val_loss: 0.6222 - val_acc: 0.6466\n"
          ],
          "name": "stdout"
        },
        {
          "output_type": "execute_result",
          "data": {
            "text/plain": [
              "<tensorflow.python.keras.callbacks.History at 0x7f5d4a615c50>"
            ]
          },
          "metadata": {
            "tags": []
          },
          "execution_count": 30
        }
      ]
    },
    {
      "cell_type": "code",
      "metadata": {
        "id": "vCP8VkVG3aTT",
        "colab_type": "code",
        "colab": {}
      },
      "source": [
        "#!rm -rf /content/data"
      ],
      "execution_count": 0,
      "outputs": []
    },
    {
      "cell_type": "code",
      "metadata": {
        "id": "uZd3Z0Z2DKnJ",
        "colab_type": "code",
        "colab": {}
      },
      "source": [
        "#!rm -rf /content/validation_data/"
      ],
      "execution_count": 0,
      "outputs": []
    },
    {
      "cell_type": "code",
      "metadata": {
        "id": "FkrvHuj6yYN_",
        "colab_type": "code",
        "colab": {}
      },
      "source": [
        "#!rm /content/train.zip"
      ],
      "execution_count": 0,
      "outputs": []
    },
    {
      "cell_type": "code",
      "metadata": {
        "id": "lQU1UTdmpniO",
        "colab_type": "code",
        "colab": {}
      },
      "source": [
        "#!rm /content/test1.zip"
      ],
      "execution_count": 0,
      "outputs": []
    },
    {
      "cell_type": "code",
      "metadata": {
        "id": "3_N3on-d8X0H",
        "colab_type": "code",
        "colab": {}
      },
      "source": [
        "#!rm -rf /content/train"
      ],
      "execution_count": 0,
      "outputs": []
    },
    {
      "cell_type": "code",
      "metadata": {
        "id": "kTyhs2Bu8eL1",
        "colab_type": "code",
        "colab": {}
      },
      "source": [
        "#!rm /content/test1.zip"
      ],
      "execution_count": 0,
      "outputs": []
    },
    {
      "cell_type": "code",
      "metadata": {
        "id": "wLMUVhDZ8hYH",
        "colab_type": "code",
        "colab": {}
      },
      "source": [
        "#!rm -rf /content/train"
      ],
      "execution_count": 0,
      "outputs": []
    },
    {
      "cell_type": "code",
      "metadata": {
        "id": "4U5-VtOxCQl2",
        "colab_type": "code",
        "colab": {}
      },
      "source": [
        "#!rm -rf /content/train"
      ],
      "execution_count": 0,
      "outputs": []
    },
    {
      "cell_type": "code",
      "metadata": {
        "id": "fmhYsvNICUER",
        "colab_type": "code",
        "colab": {}
      },
      "source": [
        "#del df2"
      ],
      "execution_count": 0,
      "outputs": []
    },
    {
      "cell_type": "code",
      "metadata": {
        "id": "7YSTOrQUFY3g",
        "colab_type": "code",
        "colab": {}
      },
      "source": [
        "#!rm -rf /content/test1.zip"
      ],
      "execution_count": 0,
      "outputs": []
    },
    {
      "cell_type": "code",
      "metadata": {
        "id": "nn2PDlmiIds3",
        "colab_type": "code",
        "colab": {}
      },
      "source": [
        "#del model"
      ],
      "execution_count": 0,
      "outputs": []
    },
    {
      "cell_type": "code",
      "metadata": {
        "id": "iwE1QbajknGV",
        "colab_type": "code",
        "colab": {}
      },
      "source": [
        ""
      ],
      "execution_count": 0,
      "outputs": []
    }
  ]
}